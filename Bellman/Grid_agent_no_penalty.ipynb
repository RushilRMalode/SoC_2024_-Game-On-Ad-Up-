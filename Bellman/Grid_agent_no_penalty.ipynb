{
 "cells": [
  {
   "cell_type": "code",
   "execution_count": 16,
   "metadata": {},
   "outputs": [],
   "source": [
    "import numpy as np\n",
    "\n",
    "# Define the grid configuration\n",
    "grid = np.array([\n",
    "    [0,  0,  0,  10],\n",
    "    [0, -1,  -1,   0],\n",
    "    [0,  0,  -1,   0],\n",
    "    [1,  0,  0,   0]\n",
    "])\n",
    "\n",
    "# Define the starting position\n",
    "start_pos = (3, 0)\n",
    "\n",
    "# Define the possible actions\n",
    "actions = ['up', 'down', 'left', 'right']\n",
    "\n",
    "# Define the action directions\n",
    "action_directions = {\n",
    "    'up': (-1, 0),\n",
    "    'down': (1, 0),\n",
    "    'left': (0, -1),\n",
    "    'right': (0, 1)\n",
    "}\n",
    "\n",
    "def is_valid_position(position):\n",
    "    \"\"\"Check if the position is within the grid boundaries and not an obstacle.\"\"\"\n",
    "    x, y = position\n",
    "    if x < 0 or x >= grid.shape[0] or y < 0 or y >= grid.shape[1]:\n",
    "        return False\n",
    "    if grid[x, y] == -1:\n",
    "        return False\n",
    "    return True\n"
   ]
  },
  {
   "cell_type": "code",
   "execution_count": 17,
   "metadata": {},
   "outputs": [],
   "source": [
    "# Initialize the value function for all states to 0\n",
    "V = np.zeros(grid.shape)\n",
    "\n",
    "# Initialize the policy to randomly select actions\n",
    "policy = np.random.choice(actions, size=grid.shape)\n",
    "\n",
    "# Discount factor\n",
    "gamma = 0.9\n",
    "theta=1e-6\n",
    "\n",
    "def compute_value_function(policy, V, grid, gamma=gamma ,theta=theta):\n",
    "    \"\"\"Perform policy evaluation to update the value function.\"\"\"\n",
    "    while True:\n",
    "        delta = 0\n",
    "        for x in range(grid.shape[0]):\n",
    "            for y in range(grid.shape[1]):\n",
    "                if grid[x, y] == -1:  # Skip obstacles\n",
    "                    continue\n",
    "                v = V[x, y]\n",
    "                new_value = 0\n",
    "                action = policy[x, y]\n",
    "                dx, dy = action_directions[action]\n",
    "                new_x, new_y = x + dx, y + dy\n",
    "                if is_valid_position((new_x, new_y)):\n",
    "                    reward = grid[new_x, new_y]\n",
    "                    new_value = reward + gamma * V[new_x, new_y]\n",
    "                V[x, y] = new_value\n",
    "                delta = max(delta, abs(v - new_value))\n",
    "        if delta < theta:\n",
    "            break\n",
    "\n",
    "def improve_policy(policy, V, grid, gamma=0.9):\n",
    "    \"\"\"Perform policy improvement to update the policy.\"\"\"\n",
    "    policy_stable = True\n",
    "    for x in range(grid.shape[0]):\n",
    "        for y in range(grid.shape[1]):\n",
    "            if grid[x, y] == -1:  # Skip obstacles\n",
    "                continue\n",
    "            old_action = policy[x, y]\n",
    "            action_values = {}\n",
    "            for action in actions:\n",
    "                dx, dy = action_directions[action]\n",
    "                new_x, new_y = x + dx, y + dy\n",
    "                if is_valid_position((new_x, new_y)):\n",
    "                    reward = grid[new_x, new_y]\n",
    "                    action_values[action] = reward + gamma * V[new_x, new_y]\n",
    "                else:\n",
    "                    action_values[action] = -np.inf  # Invalid move\n",
    "            best_action = max(action_values, key=action_values.get)\n",
    "            policy[x, y] = best_action\n",
    "            if best_action != old_action:\n",
    "                policy_stable = False\n",
    "    return policy_stable\n",
    "\n",
    "# Policy iteration\n",
    "def policy_iteration(policy, V, grid, gamma=0.9):\n",
    "    while True:\n",
    "        compute_value_function(policy, V, grid, gamma)\n",
    "        if improve_policy(policy, V, grid, gamma):\n",
    "            break\n"
   ]
  },
  {
   "cell_type": "code",
   "execution_count": 18,
   "metadata": {},
   "outputs": [
    {
     "name": "stdout",
     "output_type": "stream",
     "text": [
      "['right' 'right' 'right' 'down']\n",
      "['up' 'right' 'left' 'up']\n",
      "['up' 'down' 'down' 'up']\n",
      "['right' 'right' 'right' 'up']\n"
     ]
    }
   ],
   "source": [
    "# Run policy iteration\n",
    "policy_iteration(policy, V, grid, gamma)\n",
    "\n",
    "# Display the optimal policy\n",
    "for row in policy:\n",
    "    print(row)\n"
   ]
  },
  {
   "cell_type": "code",
   "execution_count": 24,
   "metadata": {},
   "outputs": [],
   "source": [
    "import matplotlib.pyplot as plt\n",
    "\n",
    "def visualize_policy(policy, grid):\n",
    "    fig, ax = plt.subplots(figsize=(8, 8))\n",
    "    ax.set_xlim(-0.5, 3.5)\n",
    "    ax.set_ylim(-0.5, 3.5)\n",
    "    \n",
    "    for x in range(grid.shape[0]):\n",
    "        for y in range(grid.shape[1]):\n",
    "            if grid[x, y] == -1:\n",
    "                ax.add_patch(plt.Rectangle((y - 0.5, x - 0.5), 1, 1, color='black'))\n",
    "            elif grid[x, y] > 0:\n",
    "                ax.add_patch(plt.Rectangle((y - 0.5, x - 0.5), 1, 1, color='green'))\n",
    "            else:\n",
    "                # Draw the policy arrows\n",
    "                action = policy[x, y]\n",
    "                if action == 'up':\n",
    "                    dx, dy = 0, -0.4\n",
    "                elif action == 'down':\n",
    "                    dx, dy = 0, 0.4\n",
    "                elif action == 'left':\n",
    "                    dx, dy = -0.4, 0\n",
    "                elif action == 'right':\n",
    "                    dx, dy = 0.4, 0\n",
    "                ax.arrow(y, x, dx, dy, head_width=0.2, head_length=0.2, fc='blue', ec='blue')\n",
    "\n",
    "    # Draw the grid\n",
    "    for x in range(grid.shape[0] + 1):\n",
    "        ax.axhline(x - 0.5, color='gray', lw=1)\n",
    "    for y in range(grid.shape[1] + 1):\n",
    "        ax.axvline(y - 0.5, color='gray', lw=1)\n",
    "    \n",
    "    ax.set_xticks(range(4))\n",
    "    ax.set_yticks(range(4))\n",
    "    ax.set_xticklabels([])\n",
    "    ax.set_yticklabels([])\n",
    "    ax.invert_yaxis()\n",
    "    plt.show()\n",
    "\n",
    "def visualize_value_function(V, grid):\n",
    "    fig, ax = plt.subplots(figsize=(8, 8))\n",
    "    ax.set_xlim(-0.5, 3.5)\n",
    "    ax.set_ylim(-0.5, 3.5)\n",
    "    \n",
    "    for x in range(grid.shape[0]):\n",
    "        for y in range(grid.shape[1]):\n",
    "            ax.text(y, x, round(V[x, y], 2), ha='center', va='center', fontsize=12)\n",
    "            if grid[x, y] == -1:\n",
    "                ax.add_patch(plt.Rectangle((y - 0.5, x - 0.5), 1, 1, color='black'))\n",
    "            elif grid[x, y] > 0:\n",
    "                ax.add_patch(plt.Rectangle((y - 0.5, x - 0.5), 1, 1, color='green'))\n",
    "\n",
    "    # Draw the grid\n",
    "    for x in range(grid.shape[0] + 1):\n",
    "        ax.axhline(x - 0.5, color='gray', lw=1)\n",
    "    for y in range(grid.shape[1] + 1):\n",
    "        ax.axvline(y - 0.5, color='gray', lw=1)\n",
    "    \n",
    "    ax.set_xticks(range(4))\n",
    "    ax.set_yticks(range(4))\n",
    "    ax.set_xticklabels([])\n",
    "    ax.set_yticklabels([])\n",
    "    ax.invert_yaxis()\n",
    "    plt.show()\n"
   ]
  },
  {
   "cell_type": "code",
   "execution_count": 25,
   "metadata": {},
   "outputs": [
    {
     "data": {
      "image/png": "[encoded data removed]",
      "text/plain": [
       "<Figure size 800x800 with 1 Axes>"
      ]
     },
     "metadata": {},
     "output_type": "display_data"
    },
    {
     "data": {
      "image/png": "[encoded data removed]",
      "text/plain": [
       "<Figure size 800x800 with 1 Axes>"
      ]
     },
     "metadata": {},
     "output_type": "display_data"
    }
   ],
   "source": [
    "visualize_policy(policy, grid)\n",
    "visualize_value_function(V, grid)"
   ]
  }
 ],
 "metadata": {
  "kernelspec": {
   "display_name": "Python 3",
   "language": "python",
   "name": "python3"
  },
  "language_info": {
   "codemirror_mode": {
    "name": "ipython",
    "version": 3
   },
   "file_extension": ".py",
   "mimetype": "text/x-python",
   "name": "python",
   "nbconvert_exporter": "python",
   "pygments_lexer": "ipython3",
   "version": "3.11.5"
  }
 },
 "nbformat": 4,
 "nbformat_minor": 2
}
