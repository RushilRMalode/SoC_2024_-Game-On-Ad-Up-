{
 "cells": [
  {
   "cell_type": "code",
   "execution_count": 24,
   "metadata": {},
   "outputs": [
    {
     "name": "stdout",
     "output_type": "stream",
     "text": [
      "+---------+\n",
      "|R: | : :\u001b[34;1m\u001b[43mG\u001b[0m\u001b[0m|\n",
      "| : | : : |\n",
      "| : : : : |\n",
      "| | : | : |\n",
      "|\u001b[35mY\u001b[0m| : |B: |\n",
      "+---------+\n",
      "\n",
      "\n"
     ]
    }
   ],
   "source": [
    "import gymnasium as gym\n",
    "import numpy as np\n",
    "import matplotlib.pyplot as plt\n",
    "\n",
    "# Initialize the Taxi environment\n",
    "env = gym.make(\"Taxi-v3\",render_mode='ansi')\n",
    "env.reset()\n",
    "print(env.render())"
   ]
  },
  {
   "cell_type": "markdown",
   "metadata": {},
   "source": [
    "No Learning Code:"
   ]
  },
  {
   "cell_type": "code",
   "execution_count": 25,
   "metadata": {},
   "outputs": [
    {
     "name": "stdout",
     "output_type": "stream",
     "text": [
      "Timesteps taken: 449\n",
      "Penalties incurred: 138\n"
     ]
    }
   ],
   "source": [
    "env.reset()\n",
    "\n",
    "steps = 0\n",
    "penalties, reward = 0, 0\n",
    "\n",
    "frames = [] # for animation\n",
    "\n",
    "done = False\n",
    "\n",
    "while not done:\n",
    "    action = env.action_space.sample()\n",
    "    state, reward, done, info, _ = env.step(action)\n",
    "\n",
    "    if reward == -10:\n",
    "        penalties += 1\n",
    "    \n",
    "    # Put each rendered frame into dict for animation\n",
    "    frames.append({\n",
    "        'frame': env.render(),\n",
    "        'state': state,\n",
    "        'action': action,\n",
    "        'reward': reward\n",
    "        }\n",
    "    )\n",
    "\n",
    "    steps += 1\n",
    "    \n",
    "print(\"Timesteps taken: {}\".format(steps))\n",
    "print(\"Penalties incurred: {}\".format(penalties))"
   ]
  },
  {
   "cell_type": "code",
   "execution_count": 26,
   "metadata": {},
   "outputs": [
    {
     "name": "stdout",
     "output_type": "stream",
     "text": [
      "+---------+\n",
      "|R: | : :G|\n",
      "| : | : : |\n",
      "| : : : : |\n",
      "| | : | : |\n",
      "|Y| : |\u001b[35m\u001b[34;1m\u001b[43mB\u001b[0m\u001b[0m\u001b[0m: |\n",
      "+---------+\n",
      "  (Dropoff)\n",
      "\n",
      "Timestep: 449\n",
      "State: 475\n",
      "Action: 5\n",
      "Reward: 20\n"
     ]
    }
   ],
   "source": [
    "from IPython.display import clear_output\n",
    "from time import sleep\n",
    "\n",
    "def print_frames(frames):\n",
    "    for i, frame in enumerate(frames):\n",
    "        clear_output(wait=True)\n",
    "        print(frame['frame'])\n",
    "        print(f\"Timestep: {i + 1}\")\n",
    "        print(f\"State: {frame['state']}\")\n",
    "        print(f\"Action: {frame['action']}\")\n",
    "        print(f\"Reward: {frame['reward']}\")\n",
    "        sleep(.1)\n",
    "        \n",
    "print_frames(frames)"
   ]
  },
  {
   "cell_type": "markdown",
   "metadata": {},
   "source": [
    "Monte Carlo"
   ]
  },
  {
   "cell_type": "code",
   "execution_count": 27,
   "metadata": {},
   "outputs": [],
   "source": [
    "def monte_carlo(env, num_episodes, gamma=1.0):\n",
    "    returns_sum = {}\n",
    "    returns_count = {}\n",
    "    Q = np.zeros((env.observation_space.n, env.action_space.n))\n",
    "    cumulative_rewards = []\n",
    "\n",
    "    for i_episode in range(1, num_episodes + 1):\n",
    "        state = env.reset()[0]\n",
    "        episode = []\n",
    "        while True:\n",
    "            action = np.random.choice(np.arange(env.action_space.n))\n",
    "            next_state, reward, done, truncated, _ = env.step(action)\n",
    "            episode.append((state, action, reward))\n",
    "            state = next_state\n",
    "            if done or truncated:\n",
    "                break\n",
    "\n",
    "        cumulative_reward = 0\n",
    "        for state, action, reward in episode[::-1]:\n",
    "            cumulative_reward = gamma * cumulative_reward + reward\n",
    "            sa_pair = (state, action)\n",
    "            if sa_pair not in [(x[0], x[1]) for x in episode[:-1]]:\n",
    "                if sa_pair not in returns_sum:\n",
    "                    returns_sum[sa_pair] = 0\n",
    "                    returns_count[sa_pair] = 0\n",
    "                returns_sum[sa_pair] += cumulative_reward\n",
    "                returns_count[sa_pair] += 1\n",
    "                Q[state][action] = returns_sum[sa_pair] / returns_count[sa_pair]\n",
    "\n",
    "        cumulative_rewards.append(sum([x[2] for x in episode]))\n",
    "\n",
    "    return Q, cumulative_rewards"
   ]
  },
  {
   "cell_type": "markdown",
   "metadata": {},
   "source": [
    "Q-Learning"
   ]
  },
  {
   "cell_type": "code",
   "execution_count": 28,
   "metadata": {},
   "outputs": [],
   "source": [
    "def q_learning(env, num_episodes, alpha=0.1, gamma=0.99, epsilon=0.1):\n",
    "    Q = np.zeros((env.observation_space.n, env.action_space.n))\n",
    "    cumulative_rewards = []\n",
    "\n",
    "    for i_episode in range(1, num_episodes + 1):\n",
    "        state = env.reset()[0]\n",
    "        cumulative_reward = 0\n",
    "\n",
    "        while True:\n",
    "            if np.random.rand() < epsilon:\n",
    "                action = np.random.choice(np.arange(env.action_space.n))\n",
    "            else:\n",
    "                action = np.argmax(Q[state])\n",
    "\n",
    "            next_state, reward, done, truncated, _ = env.step(action)\n",
    "            cumulative_reward += reward\n",
    "\n",
    "            best_next_action = np.argmax(Q[next_state])\n",
    "            td_target = reward + gamma * Q[next_state][best_next_action]\n",
    "            td_error = td_target - Q[state][action]\n",
    "            Q[state][action] += alpha * td_error\n",
    "\n",
    "            state = next_state\n",
    "\n",
    "            if done or truncated:\n",
    "                break\n",
    "\n",
    "        cumulative_rewards.append(cumulative_reward)\n",
    "\n",
    "    return Q, cumulative_rewards"
   ]
  },
  {
   "cell_type": "markdown",
   "metadata": {},
   "source": [
    "Training"
   ]
  },
  {
   "cell_type": "code",
   "execution_count": 30,
   "metadata": {},
   "outputs": [
    {
     "name": "stdout",
     "output_type": "stream",
     "text": [
      "Done\n"
     ]
    }
   ],
   "source": [
    "num_episodes = 3000\n",
    "Q_mc, mc_rewards = monte_carlo(env, num_episodes)\n",
    "Q_ql, ql_rewards = q_learning(env, num_episodes)\n",
    "print(\"Done\")"
   ]
  },
  {
   "cell_type": "markdown",
   "metadata": {},
   "source": [
    "Plotting"
   ]
  },
  {
   "cell_type": "code",
   "execution_count": 31,
   "metadata": {},
   "outputs": [
    {
     "data": {
      "image/png": "[encoded data removed]",
      "text/plain": [
       "<Figure size 640x480 with 1 Axes>"
      ]
     },
     "metadata": {},
     "output_type": "display_data"
    }
   ],
   "source": [
    "plt.plot(range(num_episodes), np.cumsum(mc_rewards), label='Monte Carlo')\n",
    "plt.plot(range(num_episodes), np.cumsum(ql_rewards), label='Q-Learning')\n",
    "plt.xlabel('Episodes')\n",
    "plt.ylabel('Cumulative Reward')\n",
    "plt.title('Cumulative Reward per Episode')\n",
    "plt.legend()\n",
    "plt.show()"
   ]
  }
 ],
 "metadata": {
  "kernelspec": {
   "display_name": "Python 3",
   "language": "python",
   "name": "python3"
  },
  "language_info": {
   "codemirror_mode": {
    "name": "ipython",
    "version": 3
   },
   "file_extension": ".py",
   "mimetype": "text/x-python",
   "name": "python",
   "nbconvert_exporter": "python",
   "pygments_lexer": "ipython3",
   "version": "3.11.5"
  }
 },
 "nbformat": 4,
 "nbformat_minor": 2
}
